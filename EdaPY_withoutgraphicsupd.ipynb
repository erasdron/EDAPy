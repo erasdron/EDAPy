{
 "cells": [
  {
   "cell_type": "markdown",
   "id": "fabe2ab5",
   "metadata": {},
   "source": [
    "# Фильмы с 1980 по 2020 годы"
   ]
  },
  {
   "cell_type": "code",
   "execution_count": null,
   "id": "ae6c6e22",
   "metadata": {},
   "outputs": [],
   "source": [
    "import numpy as np #математические операции\n",
    "import pandas as pd #функции для датасета\n",
    "import matplotlib.pyplot as plt \n",
    "import scipy as sc #математический анализ\n",
    "from numpy.random import randn\n",
    "import seaborn as sns #статистические графики\n",
    "from sklearn.impute import SimpleImputer\n",
    "from scipy import stats"
   ]
  },
  {
   "cell_type": "markdown",
   "id": "cb27733b",
   "metadata": {},
   "source": [
    "# 1. Загрузка данных\n",
    "Для загрузки .csv файла с данными в pandas используется функция read_csv(). Выбираем директорию датасета Movies. "
   ]
  },
  {
   "cell_type": "code",
   "execution_count": null,
   "id": "75610c71",
   "metadata": {},
   "outputs": [],
   "source": [
    "df= pd.read_csv (\"D:\\download\\movie\\Movies20.csv\")"
   ]
  },
  {
   "cell_type": "markdown",
   "id": "9a98ae68",
   "metadata": {},
   "source": [
    "# 2. Информация о датасете \n",
    "Посмотрим информацию о датасете. Заголовки начало:"
   ]
  },
  {
   "cell_type": "code",
   "execution_count": null,
   "id": "3ae996bc",
   "metadata": {},
   "outputs": [],
   "source": [
    "df.head(10)"
   ]
  },
  {
   "cell_type": "markdown",
   "id": "9ae65b20",
   "metadata": {},
   "source": [
    "Заголовки конец:"
   ]
  },
  {
   "cell_type": "code",
   "execution_count": null,
   "id": "046ad045",
   "metadata": {},
   "outputs": [],
   "source": [
    "df.tail(10)"
   ]
  },
  {
   "cell_type": "markdown",
   "id": "58de1118",
   "metadata": {},
   "source": [
    "Записи и переменные:"
   ]
  },
  {
   "cell_type": "code",
   "execution_count": null,
   "id": "4dfbe8bb",
   "metadata": {},
   "outputs": [],
   "source": [
    "df.shape"
   ]
  },
  {
   "cell_type": "markdown",
   "id": "fde5e48b",
   "metadata": {},
   "source": [
    "Колонки:"
   ]
  },
  {
   "cell_type": "code",
   "execution_count": null,
   "id": "edc987bb",
   "metadata": {},
   "outputs": [],
   "source": [
    "df.columns"
   ]
  },
  {
   "cell_type": "markdown",
   "id": "39f2dd6c",
   "metadata": {},
   "source": [
    "Нулевые значения и типы данных."
   ]
  },
  {
   "cell_type": "code",
   "execution_count": null,
   "id": "4d137a9f",
   "metadata": {},
   "outputs": [],
   "source": [
    "df.info()"
   ]
  },
  {
   "cell_type": "markdown",
   "id": "140bb81c",
   "metadata": {},
   "source": [
    "Всего в таблице 15 столбцов, у 5 столбцов тип данных \"float\", у 1-\"int\" и у 9-\"object\"."
   ]
  },
  {
   "cell_type": "markdown",
   "id": "fa1ee516",
   "metadata": {},
   "source": [
    "Статистика числовых переменных"
   ]
  },
  {
   "cell_type": "code",
   "execution_count": null,
   "id": "6f26c07d",
   "metadata": {},
   "outputs": [],
   "source": [
    "df.describe()"
   ]
  },
  {
   "cell_type": "markdown",
   "id": "af38228f",
   "metadata": {},
   "source": [
    "# 3. Графики"
   ]
  },
  {
   "cell_type": "markdown",
   "id": "58cff09b",
   "metadata": {},
   "source": [
    "Целевая переменная-budget, отвечающая за бюджет фильма. \n",
    "В первой строке остаются все переменные, кроме целевой. Во второй-только целевая.\n",
    "Копия создается, чтобы изменение датасета не приводило к потере данных."
   ]
  },
  {
   "cell_type": "code",
   "execution_count": null,
   "id": "35c5f773",
   "metadata": {},
   "outputs": [],
   "source": [
    "X_df = df.drop(labels=['budget'], axis=1).copy()\n",
    "y_df = df['budget'].values.copy()"
   ]
  },
  {
   "cell_type": "markdown",
   "id": "281c5ead",
   "metadata": {},
   "source": [
    "Разделение данных"
   ]
  },
  {
   "cell_type": "code",
   "execution_count": null,
   "id": "a578724b",
   "metadata": {},
   "outputs": [],
   "source": [
    "X_df.shape, y_df.shape"
   ]
  },
  {
   "cell_type": "markdown",
   "id": "3785e7f6",
   "metadata": {},
   "source": [
    "Характеристики переменных. hist-cтроит гистограмму для каждой переменной"
   ]
  },
  {
   "cell_type": "code",
   "execution_count": null,
   "id": "0d6dddab",
   "metadata": {
    "scrolled": true
   },
   "outputs": [],
   "source": [
    "X_df.shape, y_df.shape\n",
    "df.hist(figsize=(9,9), bins=50, xlabelsize=8, ylabelsize=8);"
   ]
  },
  {
   "cell_type": "markdown",
   "id": "54fd10b6",
   "metadata": {},
   "source": [
    "Графики, подозрительные на выбросы(обладают нехарактерными всплесками).\n",
    "Выбросы-точки, которые значительно выбиваются из общей \"кучи\". Подозрительным показалcя график \"runtime\"."
   ]
  },
  {
   "cell_type": "code",
   "execution_count": null,
   "id": "9eac25aa",
   "metadata": {},
   "outputs": [],
   "source": [
    "columns = ['runtime']\n",
    "plt.figure(figsize=(18,8))\n",
    "for i, col in enumerate(columns):\n",
    "    tmp_ax = plt.subplot(3, 4, i+1)\n",
    "    if not(i & 4 == 1):\n",
    "        tmp_ax.label_outer()\n",
    "df.plot(x = col, y='budget', ax=tmp_ax, kind='scatter')"
   ]
  },
  {
   "cell_type": "markdown",
   "id": "a06ba4a6",
   "metadata": {},
   "source": [
    "Строим график Runtime в большем масштабе. Как видно, выбросы начинаются с отметки 160."
   ]
  },
  {
   "cell_type": "code",
   "execution_count": null,
   "id": "6fc1f628",
   "metadata": {},
   "outputs": [],
   "source": [
    "fig, ax = plt.subplots( figsize=(9,5))\n",
    "ax.scatter(x = df['runtime'], y = df['budget'])\n",
    "plt.ylabel('budget', fontsize=13)\n",
    "plt.xlabel('runtime', fontsize=13)\n",
    "plt.show();"
   ]
  },
  {
   "cell_type": "markdown",
   "id": "8d4e4a55",
   "metadata": {},
   "source": [
    "Выбросы можно выкинуть из данных или заменить медианными значениями. В данном случае, выбросы убираются.\n",
    "Начинаются они с отметки 160 в runtime. Функция drop отбрасывает данные, которые не подходят под выражение."
   ]
  },
  {
   "cell_type": "code",
   "execution_count": null,
   "id": "fffed063",
   "metadata": {
    "scrolled": true
   },
   "outputs": [],
   "source": [
    "df = df.drop(df[(df['runtime']>160) & (df['budget']>4)].index)\n",
    "fig, ax = plt.subplots()\n",
    "ax.scatter(df['runtime'], df['budget'])\n",
    "plt.ylabel('budget', fontsize=13)\n",
    "plt.xlabel('runtime', fontsize=13)\n",
    "plt.show()"
   ]
  },
  {
   "cell_type": "markdown",
   "id": "52c18ef1",
   "metadata": {},
   "source": [
    "Выбросы можно увидеть на графике"
   ]
  },
  {
   "cell_type": "code",
   "execution_count": null,
   "id": "6e04a684",
   "metadata": {},
   "outputs": [],
   "source": [
    "data = pd.concat([df['budget'], df['year']], axis=1)\n",
    "f, ax = plt.subplots(figsize=(22, 8))\n",
    "fig = sns.boxplot(x='year', y=\"budget\", data=data)"
   ]
  },
  {
   "cell_type": "markdown",
   "id": "b7746c47",
   "metadata": {},
   "source": [
    "Попарные зависимости одной величины от другой. Каждая из переменных является основой одной из осей двумерного точечного графика."
   ]
  },
  {
   "cell_type": "code",
   "execution_count": null,
   "id": "c2ff9a8e",
   "metadata": {},
   "outputs": [],
   "source": [
    "columns = ['year','budget','runtime','gross','score','votes'] #выбираем все колонки с численными значениями\n",
    "pd.plotting.scatter_matrix(df[columns],figsize=(12,12));\n",
    "plt.figure();"
   ]
  },
  {
   "cell_type": "markdown",
   "id": "bbb32066",
   "metadata": {},
   "source": [
    "# 4. Анализ поисковых данных"
   ]
  },
  {
   "cell_type": "markdown",
   "id": "01437b6b",
   "metadata": {},
   "source": [
    "Матрица корреляции. Строится с помощью тепловой карты и библиотеки seaborn. Темные поля-пропуски. Диагональные ячейки не рассматриваются, так как являются результатом расчета коэффициента между переменной и ее копией."
   ]
  },
  {
   "cell_type": "code",
   "execution_count": null,
   "id": "06f9fc99",
   "metadata": {},
   "outputs": [],
   "source": [
    "corrmat = df.corr()\n",
    "plt.subplots(figsize=(12,9))\n",
    "sns.heatmap(corrmat, vmax=0.9, annot=True)"
   ]
  },
  {
   "cell_type": "markdown",
   "id": "1ec36d48",
   "metadata": {},
   "source": [
    "Матрица корреляции ниже имеет более удобный вариант, так как данные можно отфильтровать. К примеру, можно выбрать только те данные, где зависимость выше 0,4."
   ]
  },
  {
   "cell_type": "code",
   "execution_count": null,
   "id": "51fc5e43",
   "metadata": {},
   "outputs": [],
   "source": [
    "plt.subplots(figsize=(9,9))\n",
    "sns.heatmap(corrmat[(corrmat >= 0.4) | (corrmat < -0.4)], \n",
    "            cmap='viridis',\n",
    "            vmax=1.0, vmin=-1.0,\n",
    "            linewidth=0.1,\n",
    "            annot=True,\n",
    "            annot_kws={\"size\":8});"
   ]
  },
  {
   "cell_type": "markdown",
   "id": "824aed50",
   "metadata": {},
   "source": [
    "# 5. Пропуски"
   ]
  },
  {
   "cell_type": "markdown",
   "id": "fa3404ca",
   "metadata": {},
   "source": [
    "Проверим датасет на пропуски.Самое большое количество пропусков в колонках \"бюджет\", \"gross\", \"rating\".\n",
    "Метод isnull() проходится по каждой ячейке каждого столбца и определяет, какой из них пустой, а какой нет."
   ]
  },
  {
   "cell_type": "code",
   "execution_count": null,
   "id": "7e56831f",
   "metadata": {},
   "outputs": [],
   "source": [
    "df.isnull().mean() * 100"
   ]
  },
  {
   "cell_type": "markdown",
   "id": "0282290b",
   "metadata": {},
   "source": [
    "Также пропуски можно увидеть в таблице. Видно,что они в 11 колонках. NaN -упрощенно \"не число\""
   ]
  },
  {
   "cell_type": "code",
   "execution_count": null,
   "id": "0c33701b",
   "metadata": {},
   "outputs": [],
   "source": [
    "df[df.columns[pd.isnull(df).sum() > 0]]"
   ]
  },
  {
   "cell_type": "markdown",
   "id": "91fd1bc2",
   "metadata": {},
   "source": [
    "Пропуски можно удалить функцией df = df.drop(columns=['']) или заменить значениями. С помощью sklearn.impute.SimpleImputer вместо пропуска можно поставить значение. Было решено заполнить сразу все пропуски самыми распространенными значениями (most frequent)."
   ]
  },
  {
   "cell_type": "code",
   "execution_count": null,
   "id": "96613c1a",
   "metadata": {},
   "outputs": [],
   "source": [
    "imputer = SimpleImputer(strategy='most_frequent', \n",
    "                        missing_values=np.nan)\n",
    "imputer = imputer.fit(df)\n",
    "df.iloc[:,:] = imputer.transform(df)"
   ]
  },
  {
   "cell_type": "markdown",
   "id": "a387918f",
   "metadata": {},
   "source": [
    "Снова проверяем на пропуски. Ниже видно, что пропусков больше нет."
   ]
  },
  {
   "cell_type": "code",
   "execution_count": null,
   "id": "87531fe5",
   "metadata": {
    "scrolled": false
   },
   "outputs": [],
   "source": [
    "df[df.columns[pd.isnull(df).sum() > 0]]"
   ]
  },
  {
   "cell_type": "code",
   "execution_count": null,
   "id": "08317104",
   "metadata": {},
   "outputs": [],
   "source": [
    "df.tail(10)"
   ]
  },
  {
   "cell_type": "markdown",
   "id": "83d322aa",
   "metadata": {},
   "source": [
    "Также, можно проверить данные на дубликаты."
   ]
  },
  {
   "cell_type": "code",
   "execution_count": null,
   "id": "9d12d610",
   "metadata": {},
   "outputs": [],
   "source": [
    "df = df.drop_duplicates()\n",
    "df.shape"
   ]
  },
  {
   "cell_type": "markdown",
   "id": "dc84f4f5",
   "metadata": {},
   "source": [
    "# 6. Визуализация датасета"
   ]
  },
  {
   "cell_type": "markdown",
   "id": "5c8e2af0",
   "metadata": {},
   "source": [
    "Сколько фильмов и сериалов от Netflix было выпущено в период с 1980 по 2020 годы "
   ]
  },
  {
   "cell_type": "code",
   "execution_count": null,
   "id": "a774efef",
   "metadata": {},
   "outputs": [],
   "source": [
    "plt.figure(figsize=(20,20))\n",
    "MovTrnd = sns.factorplot(\"year\", data=df, aspect=3, kind=\"count\", color='g')"
   ]
  },
  {
   "cell_type": "markdown",
   "id": "98aa559a",
   "metadata": {},
   "source": [
    "Какие 10 фильмов собрали самые большие кассовые сборы"
   ]
  },
  {
   "cell_type": "code",
   "execution_count": null,
   "id": "5438f487",
   "metadata": {},
   "outputs": [],
   "source": [
    "plt.figure(figsize=(10,5))\n",
    "df4=df.sort_values(\"gross\", ascending=False).head(10)\n",
    "df_4 = sns.barplot(x=\"gross\", y=\"name\",hue='year', linewidth=0, data=df4,ci= None)\n",
    "plt.title('10 фильмов с самыми большими кассовыми сборами',fontsize=18,fontweight=\"bold\")\n",
    "df_4.set_xlim(900000,9990000000) \n",
    "plt.legend(bbox_to_anchor=(1.05, 0.9), loc=2, borderaxespad=0.) #\n",
    "plt.show()"
   ]
  },
  {
   "cell_type": "markdown",
   "id": "ef841a27",
   "metadata": {},
   "source": [
    "Вывод фильмов в жанре \"Хоррор\""
   ]
  },
  {
   "cell_type": "code",
   "execution_count": null,
   "id": "932b6585",
   "metadata": {
    "scrolled": true
   },
   "outputs": [],
   "source": [
    "df[df['genre']=='Horror']"
   ]
  },
  {
   "cell_type": "markdown",
   "id": "7bb7060f",
   "metadata": {},
   "source": [
    "Вывод 5 фильмов с актером Jack Nicholson"
   ]
  },
  {
   "cell_type": "code",
   "execution_count": null,
   "id": "d8b22ef3",
   "metadata": {},
   "outputs": [],
   "source": [
    "df[df['star']=='Jack Nicholson']\n",
    "df.head(5)"
   ]
  }
 ],
 "metadata": {
  "kernelspec": {
   "display_name": "Python 3 (ipykernel)",
   "language": "python",
   "name": "python3"
  },
  "language_info": {
   "codemirror_mode": {
    "name": "ipython",
    "version": 3
   },
   "file_extension": ".py",
   "mimetype": "text/x-python",
   "name": "python",
   "nbconvert_exporter": "python",
   "pygments_lexer": "ipython3",
   "version": "3.9.7"
  }
 },
 "nbformat": 4,
 "nbformat_minor": 5
}
